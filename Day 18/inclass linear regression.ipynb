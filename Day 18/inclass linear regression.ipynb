{
 "cells": [
  {
   "cell_type": "code",
   "execution_count": 1,
   "id": "2de62225-e4f5-47c3-974d-da5a058febfe",
   "metadata": {},
   "outputs": [
    {
     "ename": "SyntaxError",
     "evalue": "'(' was never closed (3385636981.py, line 20)",
     "output_type": "error",
     "traceback": [
      "\u001b[1;36m  Cell \u001b[1;32mIn[1], line 20\u001b[1;36m\u001b[0m\n\u001b[1;33m    print(\"Predicted monthly bill for 5 hours of daily usage:\", predicted_bill_5_hou\u001b[0m\n\u001b[1;37m         ^\u001b[0m\n\u001b[1;31mSyntaxError\u001b[0m\u001b[1;31m:\u001b[0m '(' was never closed\n"
     ]
    }
   ],
   "source": [
    " # Import necessary libraries\n",
    " import numpy as np\n",
    "\n",
    "# NumPy is used for handling arrays, which\n",
    " from sklearn.linear_model import LinearRegression  # Scikit-Learn's LinearRegres\n",
    " # Define the dataset\n",
    " # X represents the average daily usage in hours (our input feature)\n",
    " # y represents the monthly bill in dollars (our target variable)\n",
    " X = np.array([[3], [4], [6], [7], [8], [10], [12]])  # input data formatted as a\n",
    " y = np.array([50, 60, 80, 95, 110, 130, 150])        \n",
    "# output labels as a 1D arr\n",
    " # Initialize the linear regression model\n",
    " model = LinearRegression()  # This creates an instance of LinearRegression, read\n",
    " # Train the model on the dataset\n",
    " model.fit(X, y)             \n",
    "# fit() finds the best-fit line that minimizes error\n",
    " # Make a prediction\n",
    " # Now, let's predict the monthly bill for a household that uses electricity for \n",
    "predicted_bill_5_hours = model.predict(np.array([[5]]))  # predict() applies the\n",
    " print(\"Predicted monthly bill for 5 hours of daily usage:\", predicted_bill_5_hou\n",
    " # Extract and print model parameters\n",
    " # The slope (rate of increase per additional hour) and intercept (baseline month\n",
    " slope = model.coef_[0]        \n",
    "# model.coef_ gives the slope of the line, showing\n",
    " intercept = model.intercept_   # model.intercept_ is the y-intercept, showing th\n",
    " print(\"Slope (increase per additional hour):\", slope)\n",
    " print(\"Intercept (base bill):\", intercept)"
   ]
  },
  {
   "cell_type": "code",
   "execution_count": null,
   "id": "08772722-6b36-4cc7-8ed3-40b6224aa50c",
   "metadata": {},
   "outputs": [],
   "source": []
  }
 ],
 "metadata": {
  "kernelspec": {
   "display_name": "Python 3 (ipykernel)",
   "language": "python",
   "name": "python3"
  },
  "language_info": {
   "codemirror_mode": {
    "name": "ipython",
    "version": 3
   },
   "file_extension": ".py",
   "mimetype": "text/x-python",
   "name": "python",
   "nbconvert_exporter": "python",
   "pygments_lexer": "ipython3",
   "version": "3.12.4"
  }
 },
 "nbformat": 4,
 "nbformat_minor": 5
}
