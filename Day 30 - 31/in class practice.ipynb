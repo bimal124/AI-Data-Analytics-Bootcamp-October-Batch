{
 "cells": [
  {
   "cell_type": "code",
   "execution_count": 1,
   "id": "a2a49e73-ad78-46b4-9f1f-b212df9a8884",
   "metadata": {},
   "outputs": [
    {
     "name": "stdout",
     "output_type": "stream",
     "text": [
      "Requirement already satisfied: nltk in c:\\users\\devid\\anaconda3\\lib\\site-packages (3.8.1)Note: you may need to restart the kernel to use updated packages.\n",
      "\n",
      "Requirement already satisfied: click in c:\\users\\devid\\anaconda3\\lib\\site-packages (from nltk) (8.1.7)\n",
      "Requirement already satisfied: joblib in c:\\users\\devid\\anaconda3\\lib\\site-packages (from nltk) (1.4.2)\n",
      "Requirement already satisfied: regex>=2021.8.3 in c:\\users\\devid\\anaconda3\\lib\\site-packages (from nltk) (2023.10.3)\n",
      "Requirement already satisfied: tqdm in c:\\users\\devid\\anaconda3\\lib\\site-packages (from nltk) (4.66.4)\n",
      "Requirement already satisfied: colorama in c:\\users\\devid\\anaconda3\\lib\\site-packages (from click->nltk) (0.4.6)\n"
     ]
    }
   ],
   "source": [
    "# pip install nltk"
   ]
  },
  {
   "cell_type": "code",
   "execution_count": 3,
   "id": "5357178f-2b50-4c19-bfa2-712c4a41081b",
   "metadata": {},
   "outputs": [],
   "source": [
    "# Pre processing\n",
    "\n",
    "import nltk"
   ]
  },
  {
   "cell_type": "code",
   "execution_count": 10,
   "id": "0b8a74cb-b74a-4b1f-b60e-75e9af6dd4da",
   "metadata": {},
   "outputs": [],
   "source": [
    "from nltk.tokenize import word_tokenize "
   ]
  },
  {
   "cell_type": "code",
   "execution_count": 12,
   "id": "8aa61a93-fa0e-49b4-b9e4-23e83dede3dd",
   "metadata": {},
   "outputs": [],
   "source": [
    "# sample\n",
    "text = \"It is a beautiful day today, and the sun is shining hot!\"\n",
    "\n",
    "words = nltk.word_tokenize(text)\n",
    "\n"
   ]
  },
  {
   "cell_type": "code",
   "execution_count": 16,
   "id": "d3869fec-47e6-43ae-8dce-b6ff57f69a27",
   "metadata": {},
   "outputs": [
    {
     "name": "stdout",
     "output_type": "stream",
     "text": [
      "['It', 'is', 'a', 'beautiful', 'day', 'today', ',', 'and', 'the', 'sun', 'is', 'shining', 'hot', '!']\n"
     ]
    }
   ],
   "source": [
    "print(words)"
   ]
  },
  {
   "cell_type": "code",
   "execution_count": 24,
   "id": "8bc9013e-a627-4568-adea-c90351bbf3a7",
   "metadata": {},
   "outputs": [
    {
     "data": {
      "text/plain": [
       "['b', 'e', 'a', 'u', 't', 'i', 'f', 'u', 'l']"
      ]
     },
     "execution_count": 24,
     "metadata": {},
     "output_type": "execute_result"
    }
   ],
   "source": [
    "word = \"beautiful\"\n",
    "charcters = list(word)\n",
    "charcters"
   ]
  },
  {
   "cell_type": "code",
   "execution_count": 28,
   "id": "41d4b9b1-8b45-4209-8641-67de96454b5a",
   "metadata": {},
   "outputs": [
    {
     "name": "stdout",
     "output_type": "stream",
     "text": [
      "['It is a beautiful day today.', 'The sun is shining hot!', 'And i am ready for the day']\n"
     ]
    }
   ],
   "source": [
    "# sample\n",
    "text = \"It is a beautiful day today. The sun is shining hot! And i am ready for the day\"\n",
    "\n",
    "from nltk.tokenize import sent_tokenize as st\n",
    "\n",
    "sentencesss = st(text)\n",
    "\n",
    "print(sentencesss)\n"
   ]
  },
  {
   "cell_type": "code",
   "execution_count": 30,
   "id": "a5ed79c5-4b8e-4c01-ae3a-0cdc54134f65",
   "metadata": {},
   "outputs": [],
   "source": [
    "# stop word removal"
   ]
  },
  {
   "cell_type": "code",
   "execution_count": 40,
   "id": "e552f638-a4a4-4525-a189-dadbbe146b45",
   "metadata": {},
   "outputs": [],
   "source": [
    "from nltk.corpus import stopwords as sw"
   ]
  },
  {
   "cell_type": "code",
   "execution_count": 42,
   "id": "7ca8f3c7-86e2-47e7-8e1a-ecc26c2fe8bc",
   "metadata": {},
   "outputs": [
    {
     "name": "stdout",
     "output_type": "stream",
     "text": [
      "{'s', 'from', 'against', 'o', 'only', 'yours', 'any', 'ain', \"didn't\", 'his', 'ourselves', 'before', 'll', 're', 'with', 'this', \"don't\", 'above', \"doesn't\", \"mustn't\", \"you'd\", 'off', \"she's\", 'here', 'very', 'had', 'no', 'over', 'didn', 'theirs', 'further', 'hadn', 'isn', 'an', 'he', 'themselves', 'have', 'between', 'doesn', 'ma', 'shouldn', 'hers', \"shouldn't\", 'can', 'hasn', 'wasn', 'don', 'himself', 'below', 'when', 'these', 'too', 'the', 'up', \"shan't\", 'there', 'itself', 'same', 'of', 'wouldn', \"should've\", 'which', 'yourself', 'than', 'now', 'm', 'weren', 'because', 'myself', 'that', 'own', \"wasn't\", 'doing', 'whom', 'was', \"aren't\", 'been', 'on', 'but', 'haven', 'you', 'd', 'few', 'by', 'about', 'should', 'down', \"wouldn't\", 'under', 'herself', 'at', 'me', 'just', 'we', 'in', 'why', 'what', \"haven't\", 'then', 'such', \"you've\", 'other', 'did', 'more', 'ours', 'am', \"couldn't\", 'its', 'until', \"you're\", \"you'll\", \"hadn't\", 'are', 'were', 'them', 'who', 'mustn', 'as', 'during', 'be', 'how', 'all', 'y', 'again', 'most', 'where', 'each', 'into', 'shan', \"weren't\", 'to', 'my', 'nor', 'needn', \"won't\", 'does', \"it's\", 'she', 'after', 'her', 'those', 'if', \"hasn't\", 'both', 'out', 'do', 'won', 'their', 'your', 'will', 'couldn', 'having', 'while', 'it', 'some', 'for', 'or', 've', 'being', 'and', 'yourselves', \"needn't\", 'a', \"mightn't\", 'is', \"that'll\", 'once', 'mightn', 'our', 'aren', 'they', \"isn't\", 'i', 'him', 'not', 'has', 'so', 'through', 't'}\n"
     ]
    }
   ],
   "source": [
    "# sample\n",
    "text = \"It is a beautiful day today, and the sun is shining hot!\"\n",
    "\n",
    "words = nltk.word_tokenize(text)\n",
    "\n",
    "stop_words = set(sw.words('english'))\n",
    "\n",
    "print(stop_words)"
   ]
  },
  {
   "cell_type": "code",
   "execution_count": 44,
   "id": "7e84b062-ed95-4125-a8b9-004e4a2350c0",
   "metadata": {},
   "outputs": [
    {
     "name": "stderr",
     "output_type": "stream",
     "text": [
      "[nltk_data] Downloading package stopwords to\n",
      "[nltk_data]     C:\\Users\\devid\\AppData\\Roaming\\nltk_data...\n",
      "[nltk_data]   Package stopwords is already up-to-date!\n"
     ]
    },
    {
     "data": {
      "text/plain": [
       "True"
      ]
     },
     "execution_count": 44,
     "metadata": {},
     "output_type": "execute_result"
    }
   ],
   "source": [
    "nltk.download('stopwords')"
   ]
  },
  {
   "cell_type": "code",
   "execution_count": 52,
   "id": "c51b3b01-de1c-4924-8bd1-cc0f73585432",
   "metadata": {},
   "outputs": [
    {
     "data": {
      "text/plain": [
       "['It',\n",
       " 'is',\n",
       " 'a',\n",
       " 'beautiful',\n",
       " 'day',\n",
       " 'today',\n",
       " ',',\n",
       " 'and',\n",
       " 'the',\n",
       " 'sun',\n",
       " 'is',\n",
       " 'shining',\n",
       " 'hot',\n",
       " '!']"
      ]
     },
     "execution_count": 52,
     "metadata": {},
     "output_type": "execute_result"
    }
   ],
   "source": [
    "words"
   ]
  },
  {
   "cell_type": "code",
   "execution_count": 50,
   "id": "e98400b7-06e9-4d93-bcac-e7b12d708931",
   "metadata": {},
   "outputs": [
    {
     "name": "stdout",
     "output_type": "stream",
     "text": [
      "['beautiful', 'day', 'today', ',', 'sun', 'shining', 'hot', '!']\n"
     ]
    }
   ],
   "source": [
    "filtered_tokens = [word for word in words if word.lower() not in stop_words] \n",
    "\n",
    "print(filtered_tokens)"
   ]
  },
  {
   "cell_type": "code",
   "execution_count": null,
   "id": "48897f33-3565-4414-8df1-557a8646eb6a",
   "metadata": {},
   "outputs": [],
   "source": [
    "# list comprehension "
   ]
  },
  {
   "cell_type": "code",
   "execution_count": 62,
   "id": "4a3d6a78-7e4d-4c78-8be8-71077dfe6cdf",
   "metadata": {},
   "outputs": [
    {
     "name": "stdout",
     "output_type": "stream",
     "text": [
      "['apple', 'bananas', 'orange', 'grape']\n"
     ]
    }
   ],
   "source": [
    "basket = [\"apple\", \"bananas\", \"orange\", \"kiwi\", \"grape\"]\n",
    "\n",
    "long_fruits = []\n",
    "\n",
    "for i in basket:\n",
    "  if len(i) > 4:\n",
    "      \n",
    "     long_fruits.append(i)\n",
    "\n",
    "print(long_fruits)"
   ]
  },
  {
   "cell_type": "code",
   "execution_count": 66,
   "id": "51c16778-f3b0-41ae-859b-e9d0ea5d2a7a",
   "metadata": {},
   "outputs": [
    {
     "name": "stdout",
     "output_type": "stream",
     "text": [
      "['apple', 'bananas', 'orange', 'grape']\n"
     ]
    }
   ],
   "source": [
    "long_fru = [fruit for fruit in basket if len(fruit) > 4]\n",
    "\n",
    "print(long_fru)"
   ]
  },
  {
   "cell_type": "code",
   "execution_count": 68,
   "id": "da2c0adc-8a63-4ef4-8ae6-8b7756982a71",
   "metadata": {},
   "outputs": [],
   "source": [
    "# Stemming\n",
    "\n",
    "from nltk.stem import PorterStemmer  # Stemming algorithm"
   ]
  },
  {
   "cell_type": "code",
   "execution_count": 70,
   "id": "95a3a22b-ebf9-4478-8349-533878162d22",
   "metadata": {},
   "outputs": [],
   "source": [
    "# The Porter Stemmer is a popular algorithm for stemming in English.\n",
    "stemmer = PorterStemmer()"
   ]
  },
  {
   "cell_type": "code",
   "execution_count": 108,
   "id": "501f5fb0-7a78-4db0-a209-f27d1df1caa0",
   "metadata": {},
   "outputs": [
    {
     "name": "stdout",
     "output_type": "stream",
     "text": [
      "Tokens: ['It', 'is', 'a', 'beautiful', 'day', 'today', ',', 'and', 'the', 'sun', 'is', 'shining', 'hot', '!']\n"
     ]
    }
   ],
   "source": [
    "text = \"It is a beautiful day today, and the sun is shining hot!\"\n",
    " # Tokenize the Text\n",
    "tokens = word_tokenize(text)\n",
    "print(\"Tokens:\", tokens)"
   ]
  },
  {
   "cell_type": "code",
   "execution_count": 78,
   "id": "859eea07-d0ab-4a3e-9ab4-f3919f438198",
   "metadata": {},
   "outputs": [
    {
     "name": "stdout",
     "output_type": "stream",
     "text": [
      "Stemmed Words: ['it', 'is', 'a', 'beauti', 'day', 'today', ',', 'and', 'the', 'sun', 'is', 'shine', 'hot', '!']\n"
     ]
    }
   ],
   "source": [
    "# apply stemming to each word in the list of tokens\n",
    "\n",
    "stemmed_words = [stemmer.stem(word) for word in tokens]\n",
    "\n",
    "print(\"Stemmed Words:\", stemmed_words)"
   ]
  },
  {
   "cell_type": "code",
   "execution_count": 80,
   "id": "6964c35f-0cce-4349-812d-4b88117b5b90",
   "metadata": {},
   "outputs": [],
   "source": [
    "# lemmatization\n",
    "\n",
    "from nltk.stem import WordNetLemmatizer\n",
    "from nltk.corpus import wordnet "
   ]
  },
  {
   "cell_type": "code",
   "execution_count": 86,
   "id": "d11bbc06-a934-47e9-ba54-9c36147bc8a2",
   "metadata": {},
   "outputs": [
    {
     "name": "stderr",
     "output_type": "stream",
     "text": [
      "[nltk_data] Downloading package wordnet to\n",
      "[nltk_data]     C:\\Users\\devid\\AppData\\Roaming\\nltk_data...\n",
      "[nltk_data]   Package wordnet is already up-to-date!\n",
      "[nltk_data] Downloading package omw-1.4 to\n",
      "[nltk_data]     C:\\Users\\devid\\AppData\\Roaming\\nltk_data...\n",
      "[nltk_data]   Package omw-1.4 is already up-to-date!\n",
      "[nltk_data] Downloading package punkt to\n",
      "[nltk_data]     C:\\Users\\devid\\AppData\\Roaming\\nltk_data...\n",
      "[nltk_data]   Package punkt is already up-to-date!\n"
     ]
    },
    {
     "data": {
      "text/plain": [
       "True"
      ]
     },
     "execution_count": 86,
     "metadata": {},
     "output_type": "execute_result"
    }
   ],
   "source": [
    "nltk.download('wordnet')\n",
    "nltk.download('omw-1.4')\n",
    "nltk.download('punkt') "
   ]
  },
  {
   "cell_type": "code",
   "execution_count": 110,
   "id": "62c88acf-6793-431e-bf09-1fe54373c586",
   "metadata": {},
   "outputs": [],
   "source": [
    "lm = WordNetLemmatizer()"
   ]
  },
  {
   "cell_type": "code",
   "execution_count": 114,
   "id": "e20fa3a6-3a04-4255-894c-da21eaac873f",
   "metadata": {},
   "outputs": [
    {
     "name": "stdout",
     "output_type": "stream",
     "text": [
      "['It', 'is', 'a', 'beautiful', 'day', 'today', ',', 'and', 'the', 'sun', 'is', 'shining', 'hot', '!']\n"
     ]
    }
   ],
   "source": [
    "tokens = word_tokenize(text)\n",
    "print(tokens)"
   ]
  },
  {
   "cell_type": "code",
   "execution_count": 116,
   "id": "a7604a65-60cd-4d85-bde8-81adafcdc068",
   "metadata": {},
   "outputs": [],
   "source": [
    "#stemmed_words = [stemmer.stem(tokens) for tokens in tokens]\n",
    "#print(stemmed_words)"
   ]
  },
  {
   "cell_type": "code",
   "execution_count": 120,
   "id": "8f34d5c8-6604-471c-aae3-066c4d81b560",
   "metadata": {},
   "outputs": [
    {
     "name": "stdout",
     "output_type": "stream",
     "text": [
      "['It', 'is', 'a', 'beautiful', 'day', 'today', ',', 'and', 'the', 'sun', 'is', 'shining', 'hot', '!']\n"
     ]
    }
   ],
   "source": [
    "lemmatized_words = [lm.lemmatize(token) for token in tokens]\n",
    "\n",
    "print(lemmatized_words)"
   ]
  },
  {
   "cell_type": "code",
   "execution_count": null,
   "id": "ea92dbcb-4ae5-459b-9d14-5bb1325454bf",
   "metadata": {},
   "outputs": [],
   "source": []
  }
 ],
 "metadata": {
  "kernelspec": {
   "display_name": "Python 3 (ipykernel)",
   "language": "python",
   "name": "python3"
  },
  "language_info": {
   "codemirror_mode": {
    "name": "ipython",
    "version": 3
   },
   "file_extension": ".py",
   "mimetype": "text/x-python",
   "name": "python",
   "nbconvert_exporter": "python",
   "pygments_lexer": "ipython3",
   "version": "3.12.4"
  }
 },
 "nbformat": 4,
 "nbformat_minor": 5
}
