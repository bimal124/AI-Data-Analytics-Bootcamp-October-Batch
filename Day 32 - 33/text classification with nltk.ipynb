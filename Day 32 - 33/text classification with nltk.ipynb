{
 "cells": [
  {
   "cell_type": "markdown",
   "id": "45b29762-905d-476b-ad80-4dd299f8d258",
   "metadata": {},
   "source": [
    "Text classification "
   ]
  },
  {
   "cell_type": "code",
   "execution_count": null,
   "id": "e568d273-9574-48db-bba6-1612d235e789",
   "metadata": {},
   "outputs": [],
   "source": []
  },
  {
   "cell_type": "code",
   "execution_count": null,
   "id": "e3491087-a72c-4689-a523-070abf2cab73",
   "metadata": {},
   "outputs": [],
   "source": []
  },
  {
   "cell_type": "code",
   "execution_count": null,
   "id": "02ecce7d-6908-41ec-a668-fb9e4ebf6585",
   "metadata": {},
   "outputs": [],
   "source": []
  },
  {
   "cell_type": "code",
   "execution_count": null,
   "id": "a7425feb-bddd-4185-a8db-8d44b5b231e8",
   "metadata": {},
   "outputs": [],
   "source": []
  },
  {
   "cell_type": "code",
   "execution_count": null,
   "id": "a1b3cdcb-77e5-481d-bd08-7350d967d910",
   "metadata": {},
   "outputs": [],
   "source": []
  }
 ],
 "metadata": {
  "kernelspec": {
   "display_name": "Python 3 (ipykernel)",
   "language": "python",
   "name": "python3"
  },
  "language_info": {
   "codemirror_mode": {
    "name": "ipython",
    "version": 3
   },
   "file_extension": ".py",
   "mimetype": "text/x-python",
   "name": "python",
   "nbconvert_exporter": "python",
   "pygments_lexer": "ipython3",
   "version": "3.12.4"
  }
 },
 "nbformat": 4,
 "nbformat_minor": 5
}
