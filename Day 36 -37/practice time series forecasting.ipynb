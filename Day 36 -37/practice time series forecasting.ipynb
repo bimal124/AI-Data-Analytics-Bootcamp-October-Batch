{
 "cells": [
  {
   "cell_type": "code",
   "execution_count": null,
   "id": "2bc5cd44-86bb-4138-a079-d11389a4fb1c",
   "metadata": {},
   "outputs": [],
   "source": []
  }
 ],
 "metadata": {
  "kernelspec": {
   "display_name": "Python 3 (ipykernel)",
   "language": "python",
   "name": "python3"
  },
  "language_info": {
   "codemirror_mode": {
    "name": "ipython",
    "version": 3
   },
   "file_extension": ".py",
   "mimetype": "text/x-python",
   "name": "python",
   "nbconvert_exporter": "python",
   "pygments_lexer": "ipython3",
   "version": "3.12.4"
  }
 },
 "nbformat": 4,
 "nbformat_minor": 5
}
